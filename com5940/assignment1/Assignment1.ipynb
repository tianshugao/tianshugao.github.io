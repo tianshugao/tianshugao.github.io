{
 "cells": [
  {
   "cell_type": "code",
   "execution_count": 1,
   "metadata": {},
   "outputs": [],
   "source": [
    "import pymysql.cursors\n",
    "connection = pymysql.connect(host=\"localhost\", \n",
    "                     user=\"root\",   \n",
    "                     passwd=\"root\", \n",
    "                     db=\"com5961\",   \n",
    "                     charset='utf8mb4',\n",
    "                     cursorclass=pymysql.cursors.DictCursor)"
   ]
  },
  {
   "cell_type": "code",
   "execution_count": 2,
   "metadata": {},
   "outputs": [
    {
     "name": "stdout",
     "output_type": "stream",
     "text": [
      "\n",
      "\n",
      "[{'me': 'Rye Music Festival', 'Active_years': 2, 'Times': 2, 'Attendance': '25,000', 'Festival_evaluation': '✅worth visiting'}, {'me': 'Strawberry Music Festival', 'Active_years': 11, 'Times': 11, 'Attendance': '30,000', 'Festival_evaluation': '✅worth visiting'}, {'me': 'Midi Music Festival', 'Active_years': 20, 'Times': 20, 'Attendance': '60,000', 'Festival_evaluation': '✅worth visiting'}, {'me': 'Creamfields Music Festival', 'Active_years': 22, 'Times': 2, 'Attendance': '100,000', 'Festival_evaluation': '✅worth visiting'}, {'me': 'Grammy Festival', 'Active_years': 2, 'Times': 1, 'Attendance': 'not found', 'Festival_evaluation': '✅worth visiting'}, {'me': 'EDC', 'Active_years': 39, 'Times': 2, 'Attendance': '50,000', 'Festival_evaluation': '✅worth visiting'}, {'me': 'Simple Life Festival', 'Active_years': 14, 'Times': 14, 'Attendance': '200,000', 'Festival_evaluation': '✅worth visiting'}, {'me': 'Super Wave Music Festival', 'Active_years': 1, 'Times': 1, 'Attendance': 'not found', 'Festival_evaluation': '✅worth visiting'}, {'me': 'Budweiser STORM Music Festival', 'Active_years': 6, 'Times': 6, 'Attendance': '75,000', 'Festival_evaluation': '✅worth visiting'}, {'me': 'MTA Music Festival', 'Active_years': 4, 'Times': 4, 'Attendance': '30,000', 'Festival_evaluation': '✅worth visiting'}, {'me': 'Daydream Festival', 'Active_years': 10, 'Times': 1, 'Attendance': 'not found', 'Festival_evaluation': '✅worth visiting'}, {'me': 'Inmusic Festival', 'Active_years': 11, 'Times': 11, 'Attendance': 'not found', 'Festival_evaluation': '✅worth visiting'}, {'me': 'Beishan Music Festival ', 'Active_years': 10, 'Times': 20, 'Attendance': '100,000', 'Festival_evaluation': '✅worth visiting'}, {'me': 'East Sea Music Festival', 'Active_years': 9, 'Times': 9, 'Attendance': '65,000', 'Festival_evaluation': '✅worth visiting'}, {'me': 'Majiao Music Festival', 'Active_years': 2, 'Times': 2, 'Attendance': 'not found', 'Festival_evaluation': '✅worth visiting'}, {'me': 'Zebra Music Festival', 'Active_years': 10, 'Times': 10, 'Attendance': '50,000', 'Festival_evaluation': '✅worth visiting'}, {'me': 'Spring Wave Music Festival', 'Active_years': 13, 'Times': 13, 'Attendance': 'not found', 'Festival_evaluation': '✅worth visiting'}]\n",
      "\n",
      "\n"
     ]
    }
   ],
   "source": [
    "with connection.cursor() as cursor:\n",
    "        sql = \"SELECT * FROM music_festival\"\n",
    "        cursor.execute(sql)\n",
    "        result = cursor.fetchall()\n",
    "        dataset = []\n",
    "        temp = {}\n",
    "        i = 0\n",
    "        for row in result:\n",
    "            temp[i] = row\n",
    "            dataset.append(temp[i])\n",
    "            i = i + 1\n",
    "        print('\\n')\n",
    "        print(dataset)\n",
    "        print('\\n')"
   ]
  },
  {
   "cell_type": "code",
   "execution_count": 12,
   "metadata": {},
   "outputs": [
    {
     "name": "stdout",
     "output_type": "stream",
     "text": [
      "\n",
      "\n",
      "[{'me': 'Rye Music Festival', 'Genre': 'Popular,Rock,Ballad', 'Highlight': 'superstar singers', 'Post': '\"u=3369492201,4112594975&fm=26&gp=0.jpg (https://dl.airtable.com/.attachments/fbc0d44f4241a23ccf2b010152dfda50/e3cde62a/u33694922014112594975fm26gp0.jpg)\"', 'Venue_in_China': 'Beijing', 'Frequency_in_China': 'once a year', 'Years_active': '2018-present', 'Birthplace': 'Beijing', 'Sponsor': 'Taihe Music', 'price': '', 'website/social media': 'https://weibo.com/u/6623512134', 'Popularity': '5'}, {'me': 'Strawberry Music Festival', 'Genre': 'Popular,Rock', 'Highlight': '', 'Post': 'timg.jpg (https://dl.airtable.com/.attachments/717e063dd35ef28cbe40221ea11e37e9/9ebbe38c/timg.jpg)', 'Venue_in_China': 'tier 1 and 2 cities', 'Frequency_in_China': 'unfixed', 'Years_active': '2009-present', 'Birthplace': 'Beijing', 'Sponsor': 'Modernsky', 'price': '', 'website/social media': 'https://weibo.com/u/3206027307', 'Popularity': '5'}, {'me': 'Midi Music Festival', 'Genre': 'Rock', 'Highlight': 'the first Chinese original music festival', 'Post': 'midi.jpg (https://dl.airtable.com/.attachments/8c575c8e59345a563d393bd3fb5798f6/4e9f1886/midi.jpg)', 'Venue_in_China': 'across mainland China', 'Frequency_in_China': 'unfixed', 'Years_active': '2000-present', 'Birthplace': 'Beijing', 'Sponsor': 'Beijing Midi School of Music', 'price': '', 'website/social media': 'http://www.midifestival.com/', 'Popularity': '5'}, {'me': 'Creamfields Music Festival', 'Genre': 'Electronic', 'Highlight': 'the most famous electronic music festival in UK', 'Post': 'timg2.jpg (https://dl.airtable.com/.attachments/a068fd605ed7837759122a80f79e57a4/3e1a99d2/timg2.jpg)', 'Venue_in_China': 'tier 1 cities', 'Frequency_in_China': 'unfixed', 'Years_active': '1998-present', 'Birthplace': 'UK', 'Sponsor': 'Cream', 'price': '', 'website/social media': 'https://www.creamfields.com/', 'Popularity': '4'}, {'me': 'Grammy Festival', 'Genre': 'Rock,Jazz,Popular,Electronic', 'Highlight': 'sponsored by Grammy Award', 'Post': 'grammy.jpg (https://dl.airtable.com/.attachments/107956a50270e846c0a2dc60c4282b13/40c6b434/grammy.jpg)', 'Venue_in_China': 'Beijing', 'Frequency_in_China': 'once', 'Years_active': '2018', 'Birthplace': 'US', 'Sponsor': 'Grammy Award', 'price': '', 'website/social media': 'http://www.grammy.com', 'Popularity': '4'}, {'me': 'EDC', 'Genre': 'Electronic', 'Highlight': 'the largest electronic dance music festival in North America', 'Post': 'edc.jpg (https://dl.airtable.com/.attachments/76dadbd1d5fc4107e4f7eb2869800fcb/db9b09c8/edc.jpg)', 'Venue_in_China': 'tier 1 cities', 'Frequency_in_China': 'once a year', 'Years_active': '1991-present', 'Birthplace': 'US', 'Sponsor': 'Insomniac Events', 'price': '', 'website/social media': 'https://lasvegas.electricdaisycarnival.com/', 'Popularity': '4'}, {'me': 'Simple Life Festival', 'Genre': 'Popular,Ballad', 'Highlight': 'culture-related', 'Post': 'simplelife.jpg (https://dl.airtable.com/.attachments/3c80f54ed63cff210d2781e6d748b75a/5633701e/simplelife.jpg)', 'Venue_in_China': 'Taibei, Taizhong, Shanghai', 'Frequency_in_China': 'once a year', 'Years_active': '2006-present', 'Birthplace': 'Taibei', 'Sponsor': 'Li Zongsheng, Zhang Peiren', 'price': '', 'website/social media': 'http://simplelife.streetvoice.cn/', 'Popularity': '4'}, {'me': 'Super Wave Music Festival', 'Genre': 'Electronic,Rap', 'Highlight': '', 'Post': '007V3nVUly8g61k69hzcyj30u00u0wg5.jpg (https://dl.airtable.com/.attachments/43b6ed1af26eb45a545dd53bf4c0aaa1/4df1fa76/007V3nVUly8g61k69hzcyj30u00u0wg5.jpg)', 'Venue_in_China': 'Haikou', 'Frequency_in_China': 'once a year', 'Years_active': '2019-present', 'Birthplace': 'Haikou', 'Sponsor': 'Donganyiding', 'price': '', 'website/social media': 'https://weibo.com/u/7255987962', 'Popularity': '3'}, {'me': 'Budweiser STORM Music Festival', 'Genre': 'Electronic', 'Highlight': 'the largest Chinese electronic festival', 'Post': 'baiwei.jpg (https://dl.airtable.com/.attachments/be3b922c676e295532fd7bf7a3902657/3f62da74/baiwei.jpg)', 'Venue_in_China': 'tire 1 cities', 'Frequency_in_China': 'unfixed', 'Years_active': '2013-present', 'Birthplace': 'Shanghai', 'Sponsor': 'Budweiser', 'price': '', 'website/social media': 'https://www.bud.cn/mobile/electric2019.html', 'Popularity': '3'}, {'me': 'MTA Music Festival', 'Genre': 'Rock,Popular,Ballad', 'Highlight': 'Combined music with technology and art;  held on a desert', 'Post': 'mta.jpg (https://dl.airtable.com/.attachments/5c1c40a56287ad999398c87a7fd551b0/30ac274a/mta.jpg)', 'Venue_in_China': 'Zhangjiakou', 'Frequency_in_China': 'once a year', 'Years_active': '2016-present', 'Birthplace': 'Zhangjiakou', 'Sponsor': 'Sound Summer', 'price': '', 'website/social media': 'http://www.mtafestival.com/', 'Popularity': '3'}, {'me': 'Daydream Festival', 'Genre': 'Electronic,Rock,Popular', 'Highlight': 'one of the most famous music festival in Belgium', 'Post': 'daydream.jpg (https://dl.airtable.com/.attachments/a68364ca6e496584687d540565e0059a/8c00fd46/daydream.jpg)', 'Venue_in_China': 'Shanghai', 'Frequency_in_China': 'once', 'Years_active': '2018', 'Birthplace': 'Belgium ', 'Sponsor': '', 'price': '', 'website/social media': 'https://daydreamfestival.nl/', 'Popularity': '3'}, {'me': 'Inmusic Festival', 'Genre': 'Popular,Rock,Ballad,Rap', 'Highlight': 'held on a grassland', 'Post': 'zhangbei.JPG (https://dl.airtable.com/.attachments/f3c658a2ab9d461ba6541b97a58a3b61/b8fd6ed5/zhangbei.JPG)', 'Venue_in_China': 'Zhangjiakou', 'Frequency_in_China': 'once a year', 'Years_active': '2009-present', 'Birthplace': 'Zhangjiakou', 'Sponsor': 'Sunshine Media', 'price': '', 'website/social media': 'https://weibo.com/p/1002062796919865/home?from=page_100206&mod=TAB&is_all=1#place', 'Popularity': '3'}, {'me': 'Beishan Music Festival ', 'Genre': 'Jazz', 'Highlight': '', 'Post': 'beishan.jpg (https://dl.airtable.com/.attachments/2b61594af6726bdee8157a32303c3305/22445fce/beishan.jpg)', 'Venue_in_China': 'Zhuhai', 'Frequency_in_China': 'twice a year', 'Years_active': '2010-present', 'Birthplace': 'Zhuhai', 'Sponsor': 'Huameitianpei Education', 'price': '', 'website/social media': 'https://weibo.com/beishanfestival', 'Popularity': '2'}, {'me': 'East Sea Music Festival', 'Genre': 'Rock,Electronic,Ballad', 'Highlight': 'held alongside the ocean', 'Post': 'eastsea.jpg (https://dl.airtable.com/.attachments/cfc7126b4db0e2db442534ff77b8cf3b/b2398eb0/eastsea.jpg)', 'Venue_in_China': 'Zhoushan', 'Frequency_in_China': 'once a year', 'Years_active': '2011-present', 'Birthplace': 'Zhoushan', 'Sponsor': 'Blue Imagine', 'price': '', 'website/social media': 'https://weibo.com/eastwaves', 'Popularity': '2'}, {'me': 'Majiao Music Festival', 'Genre': 'Rock', 'Highlight': '', 'Post': 'majiao.jpg (https://dl.airtable.com/.attachments/916c18d647c17caf74a9a423458257e0/870f5808/majiao.jpg)', 'Venue_in_China': 'Handan', 'Frequency_in_China': 'once a year', 'Years_active': '2018-present', 'Birthplace': 'Handan', 'Sponsor': 'Huiteng', 'price': '', 'website/social media': 'https://weibo.com/u/2844253367?is_hot=1', 'Popularity': '2'}, {'me': 'Zebra Music Festival', 'Genre': 'Rock,Popular,Electronic,Ballad', 'Highlight': '', 'Post': 'zebra.JPG (https://dl.airtable.com/.attachments/f4806c4bda8848f92121a15855a909de/832b3720/zebra.JPG)', 'Venue_in_China': 'tire 1 cities', 'Frequency_in_China': 'unfixed', 'Years_active': '2009-present', 'Birthplace': 'Chengdu', 'Sponsor': 'Zebra Media', 'price': '', 'website/social media': 'https://sg.weibo.com/user/zebramedia', 'Popularity': '2'}, {'me': 'Spring Wave Music Festival', 'Genre': '', 'Highlight': '', 'Post': '', 'Venue_in_China': '', 'Frequency_in_China': '', 'Years_active': '', 'Birthplace': '', 'Sponsor': '', 'price': '', 'website/social media': '', 'Popularity': ''}]\n",
      "\n",
      "\n"
     ]
    }
   ],
   "source": [
    "with connection.cursor() as cursor:\n",
    "        sql = \"SELECT * FROM recommendations\"\n",
    "        cursor.execute(sql)\n",
    "        result = cursor.fetchall()\n",
    "        dataset = []\n",
    "        temp = {}\n",
    "        i = 0\n",
    "        for row in result:\n",
    "            temp[i] = row\n",
    "            dataset.append(temp[i])\n",
    "            i = i + 1\n",
    "        print('\\n')\n",
    "        print(dataset)\n",
    "        print('\\n')"
   ]
  },
  {
   "cell_type": "code",
   "execution_count": 11,
   "metadata": {},
   "outputs": [
    {
     "name": "stdout",
     "output_type": "stream",
     "text": [
      "[{'Name': 'Zebra Music Festival', 'Active_years': '10', 'Festival_evaluation': '✅worth visiting', 'Times': '10', 'Attendance': '50,000'}, {'Name': 'Simple Life Festival', 'Active_years': '14', 'Festival_evaluation': '✅worth visiting', 'Times': '14', 'Attendance': '200,000'}, {'Name': 'Midi Music Festival', 'Active_years': '20', 'Festival_evaluation': '✅worth visiting', 'Times': '20', 'Attendance': '60,000'}, {'Name': 'Creamfields Music Festival', 'Active_years': '22', 'Festival_evaluation': '✅worth visiting', 'Times': '2', 'Attendance': '100,000'}, {'Name': 'Budweiser STORM Music Festival', 'Active_years': '6', 'Festival_evaluation': '✅worth visiting', 'Times': '6', 'Attendance': '75,000'}, {'Name': 'East Sea Music Festival', 'Active_years': '9', 'Festival_evaluation': '✅worth visiting', 'Times': '9', 'Attendance': '65,000'}, {'Name': 'Strawberry Music Festival', 'Active_years': '11', 'Festival_evaluation': '✅worth visiting', 'Times': '11', 'Attendance': '30,000'}, {'Name': 'MTA Music Festival', 'Active_years': '4', 'Festival_evaluation': '✅worth visiting', 'Times': '4', 'Attendance': '30,000'}, {'Name': 'Majiao Music Festival', 'Active_years': '2', 'Festival_evaluation': '✅worth visiting', 'Times': '2', 'Attendance': 'not found'}, {'Name': 'Beishan Music Festival ', 'Active_years': '10', 'Festival_evaluation': '✅worth visiting', 'Times': '20', 'Attendance': '100,000'}, {'Name': 'Inmusic Festival', 'Active_years': '11', 'Festival_evaluation': '✅worth visiting', 'Times': '11', 'Attendance': 'not found'}, {'Name': 'EDC', 'Active_years': '39', 'Festival_evaluation': '✅worth visiting', 'Times': '2', 'Attendance': '50,000'}, {'Name': 'Super Wave Music Festival', 'Active_years': '1', 'Festival_evaluation': '✅worth visiting', 'Times': '1', 'Attendance': 'not found'}, {'Name': 'Grammy Festival', 'Active_years': '2', 'Festival_evaluation': '✅worth visiting', 'Times': '1', 'Attendance': 'not found'}, {'Name': 'Daydream Festival', 'Active_years': '10', 'Festival_evaluation': '✅worth visiting', 'Times': '1', 'Attendance': 'not found'}, {'Name': 'Spring Wave Music Festival', 'Active_years': '13', 'Festival_evaluation': '✅worth visiting', 'Times': '13', 'Attendance': 'not found'}, {'Name': 'Rye Music Festival', 'Active_years': '2', 'Festival_evaluation': '✅worth visiting', 'Times': '2', 'Attendance': '25,000'}]\n",
      "\n",
      "\n",
      "['Zebra Music Festival', 'Simple Life Festival', 'Midi Music Festival', 'Creamfields Music Festival', 'Budweiser STORM Music Festival', 'East Sea Music Festival', 'Strawberry Music Festival', 'MTA Music Festival', 'Majiao Music Festival', 'Beishan Music Festival ', 'Inmusic Festival', 'EDC', 'Super Wave Music Festival', 'Grammy Festival', 'Daydream Festival', 'Spring Wave Music Festival', 'Rye Music Festival']\n"
     ]
    }
   ],
   "source": [
    "import requests\n",
    "\n",
    "headers = {\n",
    "'Authorization': 'Bearer keyCcWhXbfv6rNvh2',\n",
    "}\n",
    "\n",
    "params = (\n",
    "('view', 'Grid view'),\n",
    ")\n",
    "\n",
    "r = requests.get('https://api.airtable.com/v0/appWDkWqp3VqMgRfw/total?api_key=keyCcWhXbfv6rNvh2&sortField=_createdTime&sortDirection=desc', headers=headers, params=params)\n",
    "dict = r.json()\n",
    "dataset = []\n",
    "Name = []\n",
    "Active_years = []\n",
    "Times = []\n",
    "Attendance = []\n",
    "Festival_evaluation = []\n",
    "\n",
    "for i in dict['records']:\n",
    "     dict = i['fields']\n",
    "     dataset.append(dict)\n",
    "print(dataset)\n",
    "print('\\n')\n",
    "for dicts in dataset:\n",
    "    Name.append(dicts.get('Name'))\n",
    "    Active_years.append(dicts.get('Active_years'))\n",
    "    Times.append(dicts.get('Times'))\n",
    "    Attendance.append(dicts.get('Attendance'))\n",
    "    Festival_evaluation.append(dicts.get('Festival_evaluation'))\n",
    "print(Name)"
   ]
  },
  {
   "cell_type": "code",
   "execution_count": 13,
   "metadata": {},
   "outputs": [
    {
     "name": "stdout",
     "output_type": "stream",
     "text": [
      "[{'Name': 'Spring Wave Music Festival'}, {'Name': 'Simple Life Festival', 'Post': [{'id': 'attGBKkCG4hl56faG', 'url': 'https://dl.airtable.com/.attachments/3c80f54ed63cff210d2781e6d748b75a/5633701e/simplelife.jpg', 'filename': 'simplelife.jpg', 'size': 9138, 'type': 'image/jpeg', 'thumbnails': {'small': {'url': 'https://dl.airtable.com/.attachmentThumbnails/5e1d3306cb3e80478d0e9d9ca2add927/0d89928b', 'width': 36, 'height': 36}, 'large': {'url': 'https://dl.airtable.com/.attachmentThumbnails/6bc48d045e8163eef8f43b5be7d04ea2/66588265', 'width': 331, 'height': 331}, 'full': {'url': 'https://dl.airtable.com/.attachmentThumbnails/3a694572fabf7fd68160d0dc668cd704/d595aea4', 'width': 3000, 'height': 3000}}}], 'Genre': ['Popular', 'Ballad'], 'Years_active': '2006-present', 'Venue_in_China': 'Taibei, Taizhong, Shanghai', 'Birthplace': 'Taibei', 'website/social media': 'http://simplelife.streetvoice.cn/', 'Highlight': 'culture-related', 'Popularity': 4, 'Frequency_in_China': 'once a year', 'Sponsor': 'Li Zongsheng, Zhang Peiren'}, {'Name': 'Inmusic Festival', 'Post': [{'id': 'att3BlzHfytAmp344', 'url': 'https://dl.airtable.com/.attachments/f3c658a2ab9d461ba6541b97a58a3b61/b8fd6ed5/zhangbei.JPG', 'filename': 'zhangbei.JPG', 'size': 33640, 'type': 'image/jpeg', 'thumbnails': {'small': {'url': 'https://dl.airtable.com/.attachmentThumbnails/e479f204a925c3fd8cfddd3eb3f3eeda/c64b823d', 'width': 50, 'height': 36}, 'large': {'url': 'https://dl.airtable.com/.attachmentThumbnails/3bd94091c84acb5ba089eaa2f160a34d/94c57404', 'width': 376, 'height': 273}, 'full': {'url': 'https://dl.airtable.com/.attachmentThumbnails/083ac888837512e893317a246e8ad55f/37988ce5', 'width': 3000, 'height': 3000}}}], 'Genre': ['Popular', 'Rock', 'Ballad', 'Rap'], 'Years_active': '2009-present', 'Venue_in_China': 'Zhangjiakou', 'Birthplace': 'Zhangjiakou', 'website/social media': 'https://weibo.com/p/1002062796919865/home?from=page_100206&mod=TAB&is_all=1#place', 'Highlight': 'held on a grassland', 'Popularity': 3, 'Frequency_in_China': 'once a year', 'Sponsor': 'Sunshine Media'}, {'Name': 'Zebra Music Festival', 'Post': [{'id': 'attaTA27wpPBMDWx0', 'url': 'https://dl.airtable.com/.attachments/f4806c4bda8848f92121a15855a909de/832b3720/zebra.JPG', 'filename': 'zebra.JPG', 'size': 44541, 'type': 'image/jpeg', 'thumbnails': {'small': {'url': 'https://dl.airtable.com/.attachmentThumbnails/9b660541235442dcc8d04e8b7eb7a1c6/676f01c5', 'width': 50, 'height': 36}, 'large': {'url': 'https://dl.airtable.com/.attachmentThumbnails/dc115466a9dcef0e0763ec4ec7da3a1f/a15fd6d7', 'width': 528, 'height': 379}, 'full': {'url': 'https://dl.airtable.com/.attachmentThumbnails/ded3f047e35c798e4f5d1ba0204f0ad9/0d9dbe4f', 'width': 3000, 'height': 3000}}}], 'Genre': ['Rock', 'Popular', 'Electronic', 'Ballad'], 'Years_active': '2009-present', 'Venue_in_China': 'tire 1 cities', 'Birthplace': 'Chengdu', 'website/social media': 'https://sg.weibo.com/user/zebramedia', 'Popularity': 2, 'Frequency_in_China': 'unfixed', 'Sponsor': 'Zebra Media'}, {'Name': 'Majiao Music Festival', 'Post': [{'id': 'attyQDjxpFes0Mlmc', 'url': 'https://dl.airtable.com/.attachments/916c18d647c17caf74a9a423458257e0/870f5808/majiao.jpg', 'filename': 'majiao.jpg', 'size': 9570, 'type': 'image/jpeg', 'thumbnails': {'small': {'url': 'https://dl.airtable.com/.attachmentThumbnails/397751c2c0edf4f97c177c9567b46fd1/95bbfefc', 'width': 40, 'height': 36}, 'large': {'url': 'https://dl.airtable.com/.attachmentThumbnails/e4054928adbc193969d4a572550b8892/9621d3ca', 'width': 359, 'height': 327}, 'full': {'url': 'https://dl.airtable.com/.attachmentThumbnails/9ca5750e7a670ab02411a921cc4b6b2f/bfa9d077', 'width': 3000, 'height': 3000}}}], 'Genre': ['Rock'], 'Years_active': '2018-present', 'Venue_in_China': 'Handan', 'Birthplace': 'Handan', 'website/social media': 'https://weibo.com/u/2844253367?is_hot=1', 'Popularity': 2, 'Frequency_in_China': 'once a year', 'Sponsor': 'Huiteng'}, {'Name': 'Daydream Festival', 'Post': [{'id': 'attTQCUSU8THTGzCs', 'url': 'https://dl.airtable.com/.attachments/a68364ca6e496584687d540565e0059a/8c00fd46/daydream.jpg', 'filename': 'daydream.jpg', 'size': 11230, 'type': 'image/jpeg', 'thumbnails': {'small': {'url': 'https://dl.airtable.com/.attachmentThumbnails/13a57695cce09f28368ba7b2104b2a22/b876f8b9', 'width': 36, 'height': 36}, 'large': {'url': 'https://dl.airtable.com/.attachmentThumbnails/18258cc8c7a7fb11438af154e871f50a/7c317111', 'width': 180, 'height': 180}, 'full': {'url': 'https://dl.airtable.com/.attachmentThumbnails/2604e70d1fb81f745d6e4d5b6cdd8add/4ef67deb', 'width': 3000, 'height': 3000}}}], 'Genre': ['Electronic', 'Rock', 'Popular'], 'Years_active': '2018', 'Venue_in_China': 'Shanghai', 'Birthplace': 'Belgium ', 'website/social media': 'https://daydreamfestival.nl/', 'Highlight': 'one of the most famous music festival in Belgium', 'Popularity': 3, 'Frequency_in_China': 'once'}, {'Name': 'EDC', 'Post': [{'id': 'attjVTFap1n5U6Ob7', 'url': 'https://dl.airtable.com/.attachments/76dadbd1d5fc4107e4f7eb2869800fcb/db9b09c8/edc.jpg', 'filename': 'edc.jpg', 'size': 167414, 'type': 'image/jpeg', 'thumbnails': {'small': {'url': 'https://dl.airtable.com/.attachmentThumbnails/a42579d5185936adbaffba6c126c277e/a394b47a', 'width': 64, 'height': 36}, 'large': {'url': 'https://dl.airtable.com/.attachmentThumbnails/465ef3c945267ab7b1d4202db2046341/512f4858', 'width': 910, 'height': 512}, 'full': {'url': 'https://dl.airtable.com/.attachmentThumbnails/722312f4f55d80644aa3cfa2cf747e46/fab79235', 'width': 3000, 'height': 3000}}}], 'Genre': ['Electronic'], 'Years_active': '1991-present', 'Venue_in_China': 'tier 1 cities', 'Birthplace': 'US', 'website/social media': 'https://lasvegas.electricdaisycarnival.com/', 'Highlight': 'the largest electronic dance music festival in North America', 'Popularity': 4, 'Frequency_in_China': 'once a year', 'Sponsor': 'Insomniac Events'}, {'Name': 'Grammy Festival', 'Post': [{'id': 'attzr6w4DHWUZ2FLo', 'url': 'https://dl.airtable.com/.attachments/107956a50270e846c0a2dc60c4282b13/40c6b434/grammy.jpg', 'filename': 'grammy.jpg', 'size': 53579, 'type': 'image/jpeg', 'thumbnails': {'small': {'url': 'https://dl.airtable.com/.attachmentThumbnails/93450b785e33efe976327b16a6c4effc/62d79cce', 'width': 45, 'height': 36}, 'large': {'url': 'https://dl.airtable.com/.attachmentThumbnails/e88da51846c239b791c9ed223fc4f753/0e685043', 'width': 554, 'height': 442}, 'full': {'url': 'https://dl.airtable.com/.attachmentThumbnails/6b2d6ce139fe3343c3641981e2b382d1/f9df3785', 'width': 3000, 'height': 3000}}}], 'Genre': ['Rock', 'Jazz', 'Popular', 'Electronic'], 'Years_active': '2018', 'Venue_in_China': 'Beijing', 'Birthplace': 'US', 'website/social media': 'http://www.grammy.com', 'Highlight': 'sponsored by Grammy Award', 'Popularity': 4, 'Frequency_in_China': 'once', 'Sponsor': 'Grammy Award'}, {'Name': 'MTA Music Festival', 'Post': [{'id': 'attxwpj0NbPB1nhsC', 'url': 'https://dl.airtable.com/.attachments/5c1c40a56287ad999398c87a7fd551b0/30ac274a/mta.jpg', 'filename': 'mta.jpg', 'size': 51190, 'type': 'image/jpeg', 'thumbnails': {'small': {'url': 'https://dl.airtable.com/.attachmentThumbnails/80eab81c312550ddebba271b09a15a68/446ae940', 'width': 64, 'height': 36}, 'large': {'url': 'https://dl.airtable.com/.attachmentThumbnails/8971a5d47ad926c01c7599b0524d61bf/2b75eb20', 'width': 640, 'height': 360}, 'full': {'url': 'https://dl.airtable.com/.attachmentThumbnails/895b88976907cdeba8fbf633e5dd39b9/77591791', 'width': 3000, 'height': 3000}}}], 'Genre': ['Rock', 'Popular', 'Ballad'], 'Years_active': '2016-present', 'Venue_in_China': 'Zhangjiakou', 'Birthplace': 'Zhangjiakou', 'website/social media': 'http://www.mtafestival.com/', 'Highlight': 'Combined music with technology and art;  held on a desert', 'Popularity': 3, 'Frequency_in_China': 'once a year', 'Sponsor': 'Sound Summer'}, {'Name': 'East Sea Music Festival', 'Post': [{'id': 'attw2fJmU5oMJumI1', 'url': 'https://dl.airtable.com/.attachments/cfc7126b4db0e2db442534ff77b8cf3b/b2398eb0/eastsea.jpg', 'filename': 'eastsea.jpg', 'size': 12254, 'type': 'image/jpeg', 'thumbnails': {'small': {'url': 'https://dl.airtable.com/.attachmentThumbnails/7a870861694b0783f8fecd19b5d41d8b/aa95167a', 'width': 63, 'height': 36}, 'large': {'url': 'https://dl.airtable.com/.attachmentThumbnails/f6147671f66dfb5ea3332ee8ae2b3864/46a6ec28', 'width': 640, 'height': 364}, 'full': {'url': 'https://dl.airtable.com/.attachmentThumbnails/84f3eab461528e894126f7bc7db96e25/59e6b560', 'width': 3000, 'height': 3000}}}], 'Genre': ['Rock', 'Electronic', 'Ballad'], 'Years_active': '2011-present', 'Venue_in_China': 'Zhoushan', 'Birthplace': 'Zhoushan', 'website/social media': 'https://weibo.com/eastwaves', 'Highlight': 'held alongside the ocean', 'Popularity': 2, 'Frequency_in_China': 'once a year', 'Sponsor': 'Blue Imagine'}, {'Name': 'Beishan Music Festival ', 'Post': [{'id': 'att5tjQqRWwgo6P5v', 'url': 'https://dl.airtable.com/.attachments/2b61594af6726bdee8157a32303c3305/22445fce/beishan.jpg', 'filename': 'beishan.jpg', 'size': 25592, 'type': 'image/jpeg', 'thumbnails': {'small': {'url': 'https://dl.airtable.com/.attachmentThumbnails/7b148563ce36aadc568986b2ed720cf4/bbbf4f9e', 'width': 64, 'height': 36}, 'large': {'url': 'https://dl.airtable.com/.attachmentThumbnails/9dcb46df9a40c370d46a847ec15cd478/97b088e3', 'width': 911, 'height': 512}, 'full': {'url': 'https://dl.airtable.com/.attachmentThumbnails/e48a464046f8470636b78cc346d43a4b/f5457646', 'width': 3000, 'height': 3000}}}], 'Genre': ['Jazz'], 'Years_active': '2010-present', 'Venue_in_China': 'Zhuhai', 'Birthplace': 'Zhuhai', 'website/social media': 'https://weibo.com/beishanfestival', 'Popularity': 2, 'Frequency_in_China': 'twice a year', 'Sponsor': 'Huameitianpei Education'}, {'Name': 'Budweiser STORM Music Festival', 'Post': [{'id': 'attsDuJEqnruIPyy8', 'url': 'https://dl.airtable.com/.attachments/be3b922c676e295532fd7bf7a3902657/3f62da74/baiwei.jpg', 'filename': 'baiwei.jpg', 'size': 78724, 'type': 'image/jpeg', 'thumbnails': {'small': {'url': 'https://dl.airtable.com/.attachmentThumbnails/286eb4773420cd628acfdff6e2b3df3d/316eb0b3', 'width': 43, 'height': 36}, 'large': {'url': 'https://dl.airtable.com/.attachmentThumbnails/ae9027ef1d87d5aeff3e68e2bad92f51/1079743e', 'width': 611, 'height': 512}, 'full': {'url': 'https://dl.airtable.com/.attachmentThumbnails/58060182b52fb6df84606fce0795142e/0e74593a', 'width': 3000, 'height': 3000}}}], 'Genre': ['Electronic'], 'Years_active': '2013-present', 'Venue_in_China': 'tire 1 cities', 'Birthplace': 'Shanghai', 'website/social media': 'https://www.bud.cn/mobile/electric2019.html', 'Highlight': 'the largest Chinese electronic festival', 'Popularity': 3, 'Frequency_in_China': 'unfixed', 'Sponsor': 'Budweiser'}, {'Name': 'Midi Music Festival', 'Post': [{'id': 'attYjk7LqyRfRjRL4', 'url': 'https://dl.airtable.com/.attachments/8c575c8e59345a563d393bd3fb5798f6/4e9f1886/midi.jpg', 'filename': 'midi.jpg', 'size': 40194, 'type': 'image/jpeg', 'thumbnails': {'small': {'url': 'https://dl.airtable.com/.attachmentThumbnails/a3310d4972578399640513e4f7040401/d443ca37', 'width': 36, 'height': 36}, 'large': {'url': 'https://dl.airtable.com/.attachmentThumbnails/8fb2d268a5d18dd68055be1f270b4734/b38a4e79', 'width': 512, 'height': 512}, 'full': {'url': 'https://dl.airtable.com/.attachmentThumbnails/144eb1b4a73805d60b73ea350b0ec979/b2ac917b', 'width': 3000, 'height': 3000}}}], 'Genre': ['Rock'], 'Years_active': '2000-present', 'Venue_in_China': 'across mainland China', 'Birthplace': 'Beijing', 'website/social media': 'http://www.midifestival.com/', 'Highlight': 'the first Chinese original music festival', 'Popularity': 5, 'Frequency_in_China': 'unfixed', 'Sponsor': 'Beijing Midi School of Music'}, {'Name': 'Super Wave Music Festival', 'Post': [{'id': 'attvS0mwyaWHaRBu8', 'url': 'https://dl.airtable.com/.attachments/43b6ed1af26eb45a545dd53bf4c0aaa1/4df1fa76/007V3nVUly8g61k69hzcyj30u00u0wg5.jpg', 'filename': '007V3nVUly8g61k69hzcyj30u00u0wg5.jpg', 'size': 7465, 'type': 'image/jpeg', 'thumbnails': {'small': {'url': 'https://dl.airtable.com/.attachmentThumbnails/2a1abf64bd7cf845d30d66e873907147/987090b5', 'width': 36, 'height': 36}, 'large': {'url': 'https://dl.airtable.com/.attachmentThumbnails/1add945d3c2661d2991aceaf8ad716e0/bfaf0aa7', 'width': 180, 'height': 180}, 'full': {'url': 'https://dl.airtable.com/.attachmentThumbnails/6bda4871cffbd1c78fe8935b9b68a787/81163d2b', 'width': 3000, 'height': 3000}}}], 'Genre': ['Electronic', 'Rap'], 'Years_active': '2019-present', 'Venue_in_China': 'Haikou', 'Birthplace': 'Haikou', 'website/social media': 'https://weibo.com/u/7255987962', 'Popularity': 3, 'Frequency_in_China': 'once a year', 'Sponsor': 'Donganyiding'}, {'Name': 'Rye Music Festival', 'Post': [{'id': 'atti1FtErgllHXC9R', 'url': 'https://dl.airtable.com/.attachments/fbc0d44f4241a23ccf2b010152dfda50/e3cde62a/u33694922014112594975fm26gp0.jpg', 'filename': 'u=3369492201,4112594975&fm=26&gp=0.jpg', 'size': 37195, 'type': 'image/jpeg', 'thumbnails': {'small': {'url': 'https://dl.airtable.com/.attachmentThumbnails/f07950f64c9e0b26050b0139be4ff051/dcc2e684', 'width': 37, 'height': 36}, 'large': {'url': 'https://dl.airtable.com/.attachmentThumbnails/b86c964aa6b4cef85520a045abe7c4ab/05a7a615', 'width': 500, 'height': 489}, 'full': {'url': 'https://dl.airtable.com/.attachmentThumbnails/ba6fba98692e033b89cafb8f8e26712a/9f9ae7bd', 'width': 3000, 'height': 3000}}}], 'Genre': ['Popular', 'Rock', 'Ballad'], 'Years_active': '2018-present', 'Venue_in_China': 'Beijing', 'Birthplace': 'Beijing', 'website/social media': 'https://weibo.com/u/6623512134', 'Highlight': 'superstar singers', 'Popularity': 5, 'Frequency_in_China': 'once a year', 'Sponsor': 'Taihe Music'}, {'Name': 'Creamfields Music Festival', 'Post': [{'id': 'attilC9pwGhft8AgH', 'url': 'https://dl.airtable.com/.attachments/a068fd605ed7837759122a80f79e57a4/3e1a99d2/timg2.jpg', 'filename': 'timg2.jpg', 'size': 31572, 'type': 'image/jpeg', 'thumbnails': {'small': {'url': 'https://dl.airtable.com/.attachmentThumbnails/7a8badf757e66be776f89e1891ae2279/3f563a1e', 'width': 50, 'height': 36}, 'large': {'url': 'https://dl.airtable.com/.attachmentThumbnails/d7d25c1ffcfce71eaa44b4d0c104d8a8/09f7199e', 'width': 390, 'height': 279}, 'full': {'url': 'https://dl.airtable.com/.attachmentThumbnails/02bc3d609b9a8d8e0cf735c5901fba56/191ac66d', 'width': 3000, 'height': 3000}}}], 'Genre': ['Electronic'], 'Years_active': '1998-present', 'Venue_in_China': 'tier 1 cities', 'Birthplace': 'UK', 'website/social media': 'https://www.creamfields.com/', 'Highlight': 'the most famous electronic music festival in UK', 'Popularity': 4, 'Frequency_in_China': 'unfixed', 'Sponsor': 'Cream'}, {'Name': 'Strawberry Music Festival', 'Post': [{'id': 'att4YjwWC8tUrtWnl', 'url': 'https://dl.airtable.com/.attachments/717e063dd35ef28cbe40221ea11e37e9/9ebbe38c/timg.jpg', 'filename': 'timg.jpg', 'size': 14576, 'type': 'image/jpeg', 'thumbnails': {'small': {'url': 'https://dl.airtable.com/.attachmentThumbnails/9930db4d2768462138eee39668329c7e/1a94494b', 'width': 64, 'height': 36}, 'large': {'url': 'https://dl.airtable.com/.attachmentThumbnails/383cdea9d08620622b959f0f90631d34/ddfb4f0a', 'width': 725, 'height': 407}, 'full': {'url': 'https://dl.airtable.com/.attachmentThumbnails/31a2790fa56e9d35a2e6eaf78ee381b4/cf9ace56', 'width': 3000, 'height': 3000}}}], 'Genre': ['Popular', 'Rock'], 'Years_active': '2009-present', 'Venue_in_China': 'tier 1 and 2 cities', 'Birthplace': 'Beijing', 'website/social media': 'https://weibo.com/u/3206027307', 'Popularity': 5, 'Frequency_in_China': 'unfixed', 'Sponsor': 'Modernsky'}]\n",
      "\n",
      "\n",
      "['Spring Wave Music Festival', 'Simple Life Festival', 'Inmusic Festival', 'Zebra Music Festival', 'Majiao Music Festival', 'Daydream Festival', 'EDC', 'Grammy Festival', 'MTA Music Festival', 'East Sea Music Festival', 'Beishan Music Festival ', 'Budweiser STORM Music Festival', 'Midi Music Festival', 'Super Wave Music Festival', 'Rye Music Festival', 'Creamfields Music Festival', 'Strawberry Music Festival']\n"
     ]
    }
   ],
   "source": [
    "import requests\n",
    "\n",
    "headers = {\n",
    "'Authorization': 'Bearer keyCcWhXbfv6rNvh2',\n",
    "}\n",
    "\n",
    "params = (\n",
    "('view', 'Grid view'),\n",
    ")\n",
    "\n",
    "r = requests.get('https://api.airtable.com/v0/appWDkWqp3VqMgRfw/Music%20Festival%20Recommendations?api_key=keyCcWhXbfv6rNvh2&sortField=_createdTime&sortDirection=desc', headers=headers, params=params)\n",
    "dict = r.json()\n",
    "dataset = []\n",
    "Name = []\n",
    "Genre = []\n",
    "Highlight = []\n",
    "Venue_in_China = []\n",
    "Frequency_in_China = []\n",
    "\n",
    "for i in dict['records']:\n",
    "     dict = i['fields']\n",
    "     dataset.append(dict)\n",
    "print(dataset)\n",
    "print('\\n')\n",
    "for dicts in dataset:\n",
    "    Name.append(dicts.get('Name'))\n",
    "    Genre.append(dicts.get('Genre'))\n",
    "    Highlight.append(dicts.get('Highlight'))\n",
    "    Venue_in_China.append(dicts.get('Venue_in_China'))\n",
    "    Frequency_in_China.append(dicts.get('Frequency_in_China'))\n",
    "print(Name)"
   ]
  },
  {
   "cell_type": "code",
   "execution_count": null,
   "metadata": {},
   "outputs": [],
   "source": []
  },
  {
   "cell_type": "code",
   "execution_count": null,
   "metadata": {},
   "outputs": [],
   "source": []
  }
 ],
 "metadata": {
  "kernelspec": {
   "display_name": "Python 3",
   "language": "python",
   "name": "python3"
  },
  "language_info": {
   "codemirror_mode": {
    "name": "ipython",
    "version": 3
   },
   "file_extension": ".py",
   "mimetype": "text/x-python",
   "name": "python",
   "nbconvert_exporter": "python",
   "pygments_lexer": "ipython3",
   "version": "3.7.4"
  }
 },
 "nbformat": 4,
 "nbformat_minor": 2
}
